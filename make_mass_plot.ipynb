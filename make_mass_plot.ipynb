{
 "cells": [
  {
   "cell_type": "code",
   "execution_count": 1,
   "metadata": {
    "collapsed": true
   },
   "outputs": [],
   "source": [
    "%reset -f"
   ]
  },
  {
   "cell_type": "code",
   "execution_count": 2,
   "metadata": {
    "collapsed": true
   },
   "outputs": [],
   "source": [
    "import numpy as np\n",
    "from matplotlib.pyplot import *\n",
    "from matplotlib.patches import Polygon\n",
    "\n",
    "rc('text', usetex=True)\n",
    "rc('font', family='serif')"
   ]
  },
  {
   "cell_type": "code",
   "execution_count": 3,
   "metadata": {
    "collapsed": true
   },
   "outputs": [],
   "source": [
    "from scipy.spatial import Delaunay\n",
    "import numpy as np\n",
    "\n",
    "\n",
    "def alpha_shape(points, alpha, only_outer=True):\n",
    "    \"\"\"\n",
    "    Compute the alpha shape (concave hull) of a set of points.\n",
    "    :param points: np.array of shape (n,2) points.\n",
    "    :param alpha: alpha value.\n",
    "    :param only_outer: boolean value to specify if we keep only the outer border\n",
    "    or also inner edges.\n",
    "    :return: set of (i,j) pairs representing edges of the alpha-shape. (i,j) are\n",
    "    the indices in the points array.\n",
    "    \"\"\"\n",
    "    assert points.shape[0] > 3, \"Need at least four points\"\n",
    "\n",
    "    def add_edge(edges, i, j):\n",
    "        \"\"\"\n",
    "        Add an edge between the i-th and j-th points,\n",
    "        if not in the list already\n",
    "        \"\"\"\n",
    "        if (i, j) in edges or (j, i) in edges:\n",
    "            # already added\n",
    "            assert (j, i) in edges, \"Can't go twice over same directed edge right?\"\n",
    "            if only_outer:\n",
    "                # if both neighboring triangles are in shape, it's not a boundary edge\n",
    "                edges.remove((j, i))\n",
    "            return\n",
    "        edges.add((i, j))\n",
    "\n",
    "    tri = Delaunay(points)\n",
    "    edges = set()\n",
    "    # Loop over triangles:\n",
    "    # ia, ib, ic = indices of corner points of the triangle\n",
    "    for ia, ib, ic in tri.vertices:\n",
    "        pa = points[ia]\n",
    "        pb = points[ib]\n",
    "        pc = points[ic]\n",
    "        # Computing radius of triangle circumcircle\n",
    "        # www.mathalino.com/reviewer/derivation-of-formulas/derivation-of-formula-for-radius-of-circumcircle\n",
    "        a = np.sqrt((pa[0] - pb[0]) ** 2 + (pa[1] - pb[1]) ** 2)\n",
    "        b = np.sqrt((pb[0] - pc[0]) ** 2 + (pb[1] - pc[1]) ** 2)\n",
    "        c = np.sqrt((pc[0] - pa[0]) ** 2 + (pc[1] - pa[1]) ** 2)\n",
    "        s = (a + b + c) / 2.0\n",
    "        area = np.sqrt(s * (s - a) * (s - b) * (s - c))\n",
    "        circum_r = a * b * c / (4.0 * area)\n",
    "        if circum_r < alpha:\n",
    "            add_edge(edges, ia, ib)\n",
    "            add_edge(edges, ib, ic)\n",
    "            add_edge(edges, ic, ia)\n",
    "    return edges"
   ]
  },
  {
   "cell_type": "markdown",
   "metadata": {},
   "source": [
    "# start"
   ]
  },
  {
   "cell_type": "code",
   "execution_count": 14,
   "metadata": {
    "collapsed": true
   },
   "outputs": [],
   "source": [
    "import h5py\n",
    "\n",
    "f1  = h5py.File(r\"scan-mass-data\\masspoints_r2_0.1.h5\", 'r')   # 'r' means that hdf5 file is open in read-only mode\n",
    "pointsA=np.copy(f1[u'm1m2inGeV'])\n",
    "f1.close()\n",
    "\n",
    "f1  = h5py.File(r\"scan-mass-data\\masspoints_r2_0.2.h5\", 'r')   # 'r' means that hdf5 file is open in read-only mode\n",
    "pointsB=np.copy(f1[u'm1m2inGeV'])\n",
    "f1.close()\n",
    "\n",
    "f1  = h5py.File(r\"scan-mass-data\\masspoints_r2_0.5.h5\", 'r')   # 'r' means that hdf5 file is open in read-only mode\n",
    "pointsC=np.copy(f1[u'm1m2inGeV'])\n",
    "f1.close()\n",
    "\n"
   ]
  },
  {
   "cell_type": "code",
   "execution_count": 19,
   "metadata": {
    "collapsed": true
   },
   "outputs": [],
   "source": [
    "def put_in_order(edges):\n",
    "    edgeslist=np.array(list((edges)));\n",
    "    edgeslist_ord=[]\n",
    "    i,j=edgeslist[0]\n",
    "    for counter in edgeslist:\n",
    "        nextitem_pos = np.where(edgeslist[:,0]==j)\n",
    "        i,j=edgeslist[nextitem_pos[0][0]]\n",
    "        edgeslist_ord.append([i,j])\n",
    "    return np.array(edgeslist_ord)\n",
    "\n",
    "def get_edge_points(points):\n",
    "    \n",
    "    edges = alpha_shape(points, alpha=9999.0, only_outer=True)\n",
    "    print \"edges points:\",len(edges)\n",
    "    edges_in_order=put_in_order(edges)\n",
    "    points_in_order=points[edges_in_order[:,0]]\n",
    "    return points_in_order"
   ]
  },
  {
   "cell_type": "code",
   "execution_count": 20,
   "metadata": {
    "scrolled": true
   },
   "outputs": [
    {
     "name": "stdout",
     "output_type": "stream",
     "text": [
      "edges points: 36\n",
      "edges points: 36\n",
      "edges points: 36\n"
     ]
    },
    {
     "name": "stderr",
     "output_type": "stream",
     "text": [
      "D:\\python\\anacondaProgram\\lib\\site-packages\\ipykernel_launcher.py:46: RuntimeWarning: divide by zero encountered in double_scalars\n"
     ]
    }
   ],
   "source": [
    "pointsA_edge=get_edge_points(pointsA);\n",
    "pointsB_edge=get_edge_points(pointsB);\n",
    "pointsC_edge=get_edge_points(pointsC);"
   ]
  },
  {
   "cell_type": "code",
   "execution_count": 25,
   "metadata": {
    "scrolled": true
   },
   "outputs": [
    {
     "data": {
      "image/png": "[encoded data removed]",
      "text/plain": [
       "<matplotlib.figure.Figure at 0xb594320>"
      ]
     },
     "metadata": {},
     "output_type": "display_data"
    }
   ],
   "source": [
    "fig, ax =subplots()\n",
    "alp_points=0.0\n",
    "\n",
    "colorA='orange';\n",
    "colorB='g';\n",
    "colorC='b'\n",
    "plot(pointsA[:,0], pointsA[:,1], '.',color=colorA,alpha=alp_points)\n",
    "plot(pointsB[:,0], pointsB[:,1], '.',color=colorB,alpha=alp_points)\n",
    "plot(pointsC[:,0], pointsC[:,1], '.',color=colorC,alpha=alp_points)\n",
    "\n",
    "# Make the shaded region\n",
    "poly = Polygon(pointsA_edge, facecolor=colorA, edgecolor=colorA,alpha=0.3)\n",
    "ax.add_patch(poly)\n",
    "\n",
    "poly = Polygon(pointsB_edge, facecolor=colorB, edgecolor=colorB,alpha=0.3)\n",
    "ax.add_patch(poly)\n",
    "\n",
    "poly = Polygon(pointsC_edge, facecolor=colorC, edgecolor=colorC,alpha=0.3)\n",
    "ax.add_patch(poly)\n",
    "\n",
    "text(1000,400,r'$\\rho_2=0.1$',color=colorA,fontsize=labelsize)\n",
    "text(1000,600,r'$\\rho_2=0.2$',color=colorB,fontsize=labelsize)\n",
    "text(1000,1000,r'$\\rho_2=0.5$',color=colorC,fontsize=labelsize)\n",
    "\n",
    "labelsize=15\n",
    "xlabel(r'$M_{1}^{++}$ [GeV]',fontsize=labelsize)\n",
    "ylabel(r'$M_{2}^{++}$ [GeV]',fontsize=labelsize)\n",
    "savefig(r\"D:\\Dropbox\\mywork\\LR-scalar\\LR-V\\fig\\M1_M2.pdf\")\n",
    "show()"
   ]
  },
  {
   "cell_type": "markdown",
   "metadata": {},
   "source": [
    "# Debug"
   ]
  },
  {
   "cell_type": "code",
   "execution_count": null,
   "metadata": {
    "collapsed": true
   },
   "outputs": [],
   "source": []
  },
  {
   "cell_type": "code",
   "execution_count": 103,
   "metadata": {
    "scrolled": true
   },
   "outputs": [
    {
     "name": "stderr",
     "output_type": "stream",
     "text": [
      "D:\\python\\anacondaProgram\\lib\\site-packages\\ipykernel_launcher.py:46: RuntimeWarning: divide by zero encountered in double_scalars\n"
     ]
    },
    {
     "name": "stdout",
     "output_type": "stream",
     "text": [
      "edges points: 36\n"
     ]
    },
    {
     "data": {
      "image/png": "[encoded data removed]",
      "text/plain": [
       "<matplotlib.figure.Figure at 0xa8da588>"
      ]
     },
     "metadata": {},
     "output_type": "display_data"
    }
   ],
   "source": [
    "points=pointsA[:]\n",
    "\n",
    "# Plotting the output\n",
    "figure()\n",
    "axis('equal')\n",
    "plot(points[:, 0], points[:, 1], '.')\n",
    "\n",
    "# Computing the alpha shape\n",
    "edges = alpha_shape(points, alpha=999.9, only_outer=True)\n",
    "print \"edges points:\",len(edges)\n",
    "for i, j in edges:\n",
    "    plot(points[[i, j], 0], points[[i, j], 1])\n",
    "show()"
   ]
  },
  {
   "cell_type": "code",
   "execution_count": 91,
   "metadata": {
    "collapsed": true
   },
   "outputs": [],
   "source": [
    "# def createpolygons(points):\n",
    "    \n",
    "#     edges = alpha_shape(points, alpha=999.0, only_outer=True)\n",
    "#     print \"edges points:\",len(edges)\n",
    "#     edges_in_order=put_in_order(edges)\n",
    "#     points_in_order=points[edges_in_order[:,0]]\n",
    "#     print points_in_order\n",
    "#     polygon = Polygon(points_in_order, True,color=\"b\",alpha=0.5)\n",
    "#     return polygon"
   ]
  }
 ],
 "metadata": {
  "kernelspec": {
   "display_name": "Python 2",
   "language": "python",
   "name": "python2"
  },
  "language_info": {
   "codemirror_mode": {
    "name": "ipython",
    "version": 2
   },
   "file_extension": ".py",
   "mimetype": "text/x-python",
   "name": "python",
   "nbconvert_exporter": "python",
   "pygments_lexer": "ipython2",
   "version": "2.7.13"
  }
 },
 "nbformat": 4,
 "nbformat_minor": 2
}
